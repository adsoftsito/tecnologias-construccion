{
  "nbformat": 4,
  "nbformat_minor": 0,
  "metadata": {
    "colab": {
      "provenance": []
    },
    "kernelspec": {
      "name": "python3",
      "display_name": "Python 3"
    },
    "language_info": {
      "name": "python"
    }
  },
  "cells": [
    {
      "cell_type": "code",
      "source": [
        "# TensorFlow and tf.keras\n",
        "import tensorflow as tf\n",
        "from tensorflow import keras\n",
        "from tensorflow.keras.optimizers import Adam\n",
        "\n",
        "# Helper libraries\n",
        "import matplotlib.pyplot as plt\n",
        "import numpy as np\n",
        "from os import listdir\n",
        "from os.path import join\n",
        "import cv2\n",
        "import pandas\n",
        "import os\n",
        "import random\n",
        "import pathlib\n",
        "\n",
        "# Set the path of the input folder\n",
        "\n",
        "dataset = \"https://storage.googleapis.com/download.tensorflow.org/example_images/flower_photos.tgz\"\n",
        "directory = tf.keras.utils.get_file('flower_photos', origin=dataset, untar=True)\n",
        "data = pathlib.Path(directory)\n",
        "folders = os.listdir(data)\n",
        "print(folders)\n",
        "\n",
        "# Import the images and resize them to a 128*128 size\n",
        "# Also generate the corresponding labels\n",
        "\n",
        "image_names = []\n",
        "train_labels = []\n",
        "train_images = []\n",
        "\n",
        "size = 64,64\n",
        "\n",
        "for folder in folders:\n",
        "    for file in os.listdir(os.path.join(data,folder)):\n",
        "        if file.endswith(\"jpg\"):\n",
        "            image_names.append(os.path.join(data,folder,file))\n",
        "            train_labels.append(folder)\n",
        "            img = cv2.imread(os.path.join(data,folder,file))\n",
        "            im = cv2.resize(img,size)\n",
        "            train_images.append(im)\n",
        "        else:\n",
        "            continue\n",
        "\n",
        "# Transform the image array to a numpy type\n",
        "\n",
        "train = np.array(train_images)\n",
        "train.shape\n",
        "\n",
        "# Reduce the RGB values between 0 and 1\n",
        "train = train.astype('float32') / 255.0\n",
        "# Extract the labels\n",
        "label_dummies = pandas.get_dummies(train_labels)\n",
        "labels =  label_dummies.values.argmax(1)\n",
        "pandas.unique(train_labels)\n",
        "pandas.unique(labels)\n",
        "\n",
        "# Shuffle the labels and images randomly for better results\n",
        "\n",
        "union_list = list(zip(train, labels))\n",
        "random.shuffle(union_list)\n",
        "train,labels = zip(*union_list)\n",
        "\n",
        "# Convert the shuffled list to numpy array type\n",
        "\n",
        "train = np.array(train)\n",
        "labels = np.array(labels)\n",
        "\n",
        "\n",
        "# Develop a sequential model using tensorflow keras\n",
        "model = keras.Sequential([\n",
        "    keras.layers.Flatten(input_shape=(64,64,3)),\n",
        "    keras.layers.Dense(128, activation=tf.nn.tanh),\n",
        "    keras.layers.Dense(5, activation=tf.nn.softmax)\n",
        "])\n",
        "\n",
        "# Compute the model parameters\n",
        "\n",
        "model.compile(optimizer=Adam(learning_rate=0.001),\n",
        "              loss='sparse_categorical_crossentropy',\n",
        "              metrics=['accuracy'])\n",
        "\n",
        "model.fit(train,labels, epochs=5)\n",
        "\n"
      ],
      "metadata": {
        "colab": {
          "base_uri": "https://localhost:8080/"
        },
        "id": "csLD9wXXo2lW",
        "outputId": "72d192e6-9e3f-444f-8942-f49d8e9d646b"
      },
      "execution_count": 37,
      "outputs": [
        {
          "output_type": "stream",
          "name": "stdout",
          "text": [
            "['roses', '.ipynb_checkpoints', 'dandelion', 'tulips', 'sunflowers', 'daisy']\n"
          ]
        },
        {
          "output_type": "stream",
          "name": "stderr",
          "text": [
            "<ipython-input-37-778b000bbaf4>:71: FutureWarning: unique with argument that is not not a Series, Index, ExtensionArray, or np.ndarray is deprecated and will raise in a future version.\n",
            "  pandas.unique(train_labels)\n",
            "/usr/local/lib/python3.10/dist-packages/keras/src/layers/reshaping/flatten.py:37: UserWarning: Do not pass an `input_shape`/`input_dim` argument to a layer. When using Sequential models, prefer using an `Input(shape)` object as the first layer in the model instead.\n",
            "  super().__init__(**kwargs)\n"
          ]
        },
        {
          "output_type": "stream",
          "name": "stdout",
          "text": [
            "Epoch 1/5\n",
            "\u001b[1m115/115\u001b[0m \u001b[32m━━━━━━━━━━━━━━━━━━━━\u001b[0m\u001b[37m\u001b[0m \u001b[1m4s\u001b[0m 27ms/step - accuracy: 0.2289 - loss: 3.5839\n",
            "Epoch 2/5\n",
            "\u001b[1m115/115\u001b[0m \u001b[32m━━━━━━━━━━━━━━━━━━━━\u001b[0m\u001b[37m\u001b[0m \u001b[1m4s\u001b[0m 19ms/step - accuracy: 0.3261 - loss: 1.5096\n",
            "Epoch 3/5\n",
            "\u001b[1m115/115\u001b[0m \u001b[32m━━━━━━━━━━━━━━━━━━━━\u001b[0m\u001b[37m\u001b[0m \u001b[1m3s\u001b[0m 19ms/step - accuracy: 0.3773 - loss: 1.4653\n",
            "Epoch 4/5\n",
            "\u001b[1m115/115\u001b[0m \u001b[32m━━━━━━━━━━━━━━━━━━━━\u001b[0m\u001b[37m\u001b[0m \u001b[1m3s\u001b[0m 19ms/step - accuracy: 0.3763 - loss: 1.4356\n",
            "Epoch 5/5\n",
            "\u001b[1m115/115\u001b[0m \u001b[32m━━━━━━━━━━━━━━━━━━━━\u001b[0m\u001b[37m\u001b[0m \u001b[1m3s\u001b[0m 24ms/step - accuracy: 0.3788 - loss: 1.4391\n"
          ]
        },
        {
          "output_type": "execute_result",
          "data": {
            "text/plain": [
              "<keras.src.callbacks.history.History at 0x7fe91d6a2b30>"
            ]
          },
          "metadata": {},
          "execution_count": 37
        }
      ]
    },
    {
      "cell_type": "code",
      "source": [
        "# Model Inference\n",
        "# Preprocess the sample image\n",
        "img_height = 64\n",
        "img_width = 64\n",
        "import cv2\n",
        "#image = cv2.imread('/root/.keras/datasets/flower_photos/roses/10090824183_d02c613f10_m.jpg')\n",
        "#image = cv2.imread('/root/.keras/datasets/flower_photos/tulips/100930342_92e8746431_n.jpg')\n",
        "image = cv2.imread('/root/.keras/datasets/flower_photos/sunflowers/1008566138_6927679c8a.jpg')\n",
        "\n",
        "image_resized = cv2.resize(image, (img_height, img_width))\n",
        "image = np.expand_dims(image_resized, axis=0)\n",
        "\n",
        "\n",
        "# Make predictions\n",
        "image_pred = model.predict(image)\n",
        "\n",
        "print(image_pred)\n",
        "# Produce a human-readable output label\\\n",
        "classes_labels = pandas.unique(train_labels)\n",
        "\n",
        "\n",
        "image_output_class = classes_labels[np.argmax(image_pred)]\n",
        "print(classes_labels)\n",
        "print(np.argmax(image_pred))\n",
        "\n",
        "print(\"The predicted class is\", image_output_class)\n"
      ],
      "metadata": {
        "colab": {
          "base_uri": "https://localhost:8080/"
        },
        "id": "ZjTT169Nv-Dw",
        "outputId": "9aa86fc6-1eb8-4548-f7dc-0ae66042c84c"
      },
      "execution_count": 45,
      "outputs": [
        {
          "output_type": "stream",
          "name": "stdout",
          "text": [
            "\u001b[1m1/1\u001b[0m \u001b[32m━━━━━━━━━━━━━━━━━━━━\u001b[0m\u001b[37m\u001b[0m \u001b[1m0s\u001b[0m 22ms/step\n",
            "[[0.09702285 0.23684438 0.08862782 0.3991394  0.17836554]]\n",
            "['roses' 'dandelion' 'tulips' 'sunflowers' 'daisy']\n",
            "3\n",
            "The predicted class is sunflowers\n"
          ]
        },
        {
          "output_type": "stream",
          "name": "stderr",
          "text": [
            "<ipython-input-45-54cd4e4d71de>:19: FutureWarning: unique with argument that is not not a Series, Index, ExtensionArray, or np.ndarray is deprecated and will raise in a future version.\n",
            "  classes_labels = pandas.unique(train_labels)\n"
          ]
        }
      ]
    }
  ]
}